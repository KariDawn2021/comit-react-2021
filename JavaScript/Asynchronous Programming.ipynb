{
 "cells": [
  {
   "cell_type": "markdown",
   "metadata": {},
   "source": [
    "# Synchronous (Blocking) Programming"
   ]
  },
  {
   "cell_type": "code",
   "execution_count": 21,
   "metadata": {},
   "outputs": [],
   "source": [
    "function half(num) {\n",
    "    return num / 2\n",
    "}"
   ]
  },
  {
   "cell_type": "code",
   "execution_count": 22,
   "metadata": {},
   "outputs": [],
   "source": [
    "function addSeven(num) {\n",
    "    return num + 7\n",
    "}"
   ]
  },
  {
   "cell_type": "code",
   "execution_count": 3,
   "metadata": {},
   "outputs": [
    {
     "data": {
      "text/plain": [
       "12"
      ]
     },
     "execution_count": 3,
     "metadata": {},
     "output_type": "execute_result"
    }
   ],
   "source": [
    "halved = half(10)\n",
    "addSeven(halved)"
   ]
  },
  {
   "cell_type": "markdown",
   "metadata": {},
   "source": [
    "# Callbacks"
   ]
  },
  {
   "cell_type": "code",
   "execution_count": 1,
   "metadata": {},
   "outputs": [],
   "source": [
    "function loadUserData(callbackFunc) {\n",
    "    userData = null\n",
    "    setTimeout(() => {\n",
    "        userData = { name: 'Mark', age: 36, isAdmin: true }\n",
    "        const result = callbackFunc(userData)\n",
    "        console.log(result)\n",
    "    }, 2000)\n",
    "    return userData\n",
    "}"
   ]
  },
  {
   "cell_type": "code",
   "execution_count": 2,
   "metadata": {},
   "outputs": [],
   "source": [
    "function isAllowedAccess(user) {\n",
    "    return user.age >= 18 && user.isAdmin\n",
    "}"
   ]
  },
  {
   "cell_type": "code",
   "execution_count": 9,
   "metadata": {
    "collapsed": true
   },
   "outputs": [
    {
     "ename": "TypeError",
     "evalue": "Cannot read property 'age' of null",
     "output_type": "error",
     "traceback": [
      "evalmachine.<anonymous>:2",
      "    return user.age >= 18 && user.isAdmin",
      "                ^",
      "",
      "TypeError: Cannot read property 'age' of null",
      "    at isAllowedAccess (evalmachine.<anonymous>:2:17)",
      "    at evalmachine.<anonymous>:2:13",
      "    at Script.runInThisContext (vm.js:120:18)",
      "    at Object.runInThisContext (vm.js:309:38)",
      "    at run ([eval]:1054:15)",
      "    at onRunRequest ([eval]:888:18)",
      "    at onMessage ([eval]:848:13)",
      "    at process.emit (events.js:314:20)",
      "    at emit (internal/child_process.js:877:12)",
      "    at processTicksAndRejections (internal/process/task_queues.js:85:21)"
     ]
    }
   ],
   "source": [
    "userData = loadUserData()\n",
    "canAccess = isAllowedAccess(userData)\n",
    "console.log(canAccess)"
   ]
  },
  {
   "cell_type": "code",
   "execution_count": 3,
   "metadata": {},
   "outputs": [
    {
     "data": {
      "text/plain": [
       "null"
      ]
     },
     "execution_count": 3,
     "metadata": {},
     "output_type": "execute_result"
    },
    {
     "name": "stdout",
     "output_type": "stream",
     "text": [
      "true\n"
     ]
    }
   ],
   "source": [
    "loadUserData(isAllowedAccess)"
   ]
  },
  {
   "cell_type": "markdown",
   "metadata": {},
   "source": [
    "# Promises"
   ]
  },
  {
   "cell_type": "code",
   "execution_count": 4,
   "metadata": {},
   "outputs": [
    {
     "data": {
      "text/plain": [
       "{ name: 'Mark', age: 36, isAdmin: true }"
      ]
     },
     "execution_count": 4,
     "metadata": {},
     "output_type": "execute_result"
    }
   ],
   "source": [
    "user = { name: 'Mark', age: 36, isAdmin: true }"
   ]
  },
  {
   "cell_type": "code",
   "execution_count": 11,
   "metadata": {},
   "outputs": [],
   "source": [
    "function loadUserDataPromise() {\n",
    "    return new Promise(function(resolve, reject) {\n",
    "        setTimeout(() => {\n",
    "            if (Math.random() > 0.5) {\n",
    "                return resolve(user)\n",
    "            } \n",
    "            return reject(new Error('Bad luck!'))\n",
    "        }, 2000);\n",
    "    });\n",
    "}"
   ]
  },
  {
   "cell_type": "code",
   "execution_count": 7,
   "metadata": {},
   "outputs": [
    {
     "name": "stdout",
     "output_type": "stream",
     "text": [
      "Promise { <pending> }\n"
     ]
    }
   ],
   "source": [
    "userData = loadUserDataPromise()\n",
    "console.log(userData)"
   ]
  },
  {
   "cell_type": "code",
   "execution_count": 23,
   "metadata": {},
   "outputs": [
    {
     "name": "stdout",
     "output_type": "stream",
     "text": [
      "12\n",
      "Bad luck!\n",
      "In finally\n"
     ]
    }
   ],
   "source": [
    "loadUserDataPromise()\n",
    "    .then((userData) => isAllowedAccess(userData))\n",
    "    .catch((error) => console.log(error.message))\n",
    "    .finally(() => console.log('In finally'))\n",
    "\n",
    "halved = half(10)\n",
    "console.log(addSeven(halved))"
   ]
  }
 ],
 "metadata": {
  "kernelspec": {
   "display_name": "Javascript (Node.js)",
   "language": "javascript",
   "name": "javascript"
  },
  "language_info": {
   "file_extension": ".js",
   "mimetype": "application/javascript",
   "name": "javascript",
   "version": "12.20.1"
  }
 },
 "nbformat": 4,
 "nbformat_minor": 4
}
